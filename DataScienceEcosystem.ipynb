{
  "nbformat": 4,
  "nbformat_minor": 0,
  "metadata": {
    "colab": {
      "provenance": [],
      "authorship_tag": "ABX9TyPWYY9EHntDmxYLeb0VWgNW",
      "include_colab_link": true
    },
    "kernelspec": {
      "name": "python3",
      "display_name": "Python 3"
    },
    "language_info": {
      "name": "python"
    }
  },
  "cells": [
    {
      "cell_type": "markdown",
      "metadata": {
        "id": "view-in-github",
        "colab_type": "text"
      },
      "source": [
        "<a href=\"https://colab.research.google.com/github/shird-0/my-projects/blob/main/DataScienceEcosystem.ipynb\" target=\"_parent\"><img src=\"https://colab.research.google.com/assets/colab-badge.svg\" alt=\"Open In Colab\"/></a>"
      ]
    },
    {
      "cell_type": "markdown",
      "source": [
        "# Data Science Tools and Ecosystem\n"
      ],
      "metadata": {
        "id": "sk-XBbW316xy"
      }
    },
    {
      "cell_type": "markdown",
      "source": [
        "In this notebook, Data Science Tools and Ecosystem are summarized.\n"
      ],
      "metadata": {
        "id": "JCT5v3_zFmlc"
      }
    },
    {
      "cell_type": "markdown",
      "source": [
        "**Objectives:**\n",
        "- Specify the most popular programming languages for data science\n",
        "- Specify the most common Python libraries that data scientists use\n",
        "- Build a Data science tools table\n",
        "- Show some examples of calculating an arithmetic expression in Python"
      ],
      "metadata": {
        "id": "uxtCMJ5gH7to"
      }
    },
    {
      "cell_type": "markdown",
      "source": [
        "## Some of the popular languages that Data Scientists use are:\n",
        "- Python\n",
        "- R\n",
        "- SQL"
      ],
      "metadata": {
        "id": "UUoLNuTR4x6b"
      }
    },
    {
      "cell_type": "markdown",
      "source": [
        "## Some of the commonly used libraries used by Data Scientists include:\n",
        "- Pandas\n",
        "- NumPy\n",
        "- Matplotlib\n",
        "\n"
      ],
      "metadata": {
        "id": "fk0iJMat5AED"
      }
    },
    {
      "cell_type": "markdown",
      "source": [
        "## Data science tools table\n",
        "\n",
        "| Tools       | Description               |\n",
        "|------------------|--------------------------|\n",
        "| Jupyter Notebook | interactive environment      |\n",
        "| Pandas           | data processing         |\n",
        "| Scikit-learn     | Machine learning      |"
      ],
      "metadata": {
        "id": "hvviCBPp5AQT"
      }
    },
    {
      "cell_type": "markdown",
      "source": [
        "### Below are a few examples of evaluating arithmetic expressions in Python\n",
        "- addition: 2 + 3\n",
        "- mupltiplication: 4 * 5"
      ],
      "metadata": {
        "id": "5rJHbKBZ7A47"
      }
    },
    {
      "cell_type": "code",
      "source": [
        "#This a simple arithmetic expression to mutiply then add integers\n",
        "(3*4)+5"
      ],
      "metadata": {
        "colab": {
          "base_uri": "https://localhost:8080/"
        },
        "id": "A1LoRZol7BXl",
        "outputId": "baa909e2-fb19-4c46-958d-3f338cec9bc9"
      },
      "execution_count": null,
      "outputs": [
        {
          "output_type": "execute_result",
          "data": {
            "text/plain": [
              "17"
            ]
          },
          "metadata": {},
          "execution_count": 2
        }
      ]
    },
    {
      "cell_type": "code",
      "source": [
        "# This will convert 200 minutes to hours by dividing by 60\n",
        "minutes = 200\n",
        "hours = minutes / 60\n",
        "hours"
      ],
      "metadata": {
        "colab": {
          "base_uri": "https://localhost:8080/"
        },
        "id": "85b1iEwN7SDZ",
        "outputId": "5397d7fe-7d41-408d-8406-328f88f9afac"
      },
      "execution_count": null,
      "outputs": [
        {
          "output_type": "execute_result",
          "data": {
            "text/plain": [
              "3.3333333333333335"
            ]
          },
          "metadata": {},
          "execution_count": 3
        }
      ]
    },
    {
      "cell_type": "markdown",
      "source": [
        "## Author\n",
        "Denis Shirokii"
      ],
      "metadata": {
        "id": "3p7ACtOyJ4YJ"
      }
    }
  ]
}